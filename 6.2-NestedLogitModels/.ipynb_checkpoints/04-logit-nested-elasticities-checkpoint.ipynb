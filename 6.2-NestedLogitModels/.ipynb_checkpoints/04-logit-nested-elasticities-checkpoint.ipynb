{
 "cells": [
  {
   "cell_type": "markdown",
   "metadata": {},
   "source": [
    "# Nested Logit Model: Compute Elasticities (Direct, Cross, Arc)"
   ]
  },
  {
   "cell_type": "code",
   "execution_count": 1,
   "metadata": {},
   "outputs": [],
   "source": [
    "import pandas as pd\n",
    "import numpy as np\n",
    "import biogeme.database as db\n",
    "import biogeme.biogeme as bio\n",
    "import biogeme.models as models\n",
    "import biogeme.optimization as opt\n",
    "import biogeme.results as res\n",
    "from biogeme.expressions import Beta, DefineVariable, Derive\n",
    "import seaborn as sns\n",
    "import matplotlib.pyplot as plt"
   ]
  },
  {
   "cell_type": "markdown",
   "metadata": {},
   "source": [
    "**Import Optima data**"
   ]
  },
  {
   "cell_type": "code",
   "execution_count": 2,
   "metadata": {},
   "outputs": [],
   "source": [
    "pandas = pd.read_csv(\"../Data/optima.dat\",sep='\\t')\n",
    "database = db.Database (\"data/optima\", pandas)"
   ]
  },
  {
   "cell_type": "markdown",
   "metadata": {},
   "source": [
    "**Use collumn names as variables**"
   ]
  },
  {
   "cell_type": "code",
   "execution_count": 3,
   "metadata": {},
   "outputs": [],
   "source": [
    "globals().update(database.variables)"
   ]
  },
  {
   "cell_type": "markdown",
   "metadata": {},
   "source": [
    "**Exclude some unwanted entries**"
   ]
  },
  {
   "cell_type": "code",
   "execution_count": 4,
   "metadata": {},
   "outputs": [],
   "source": [
    "exclude = (Choice == -1.)\n",
    "database.remove(exclude)"
   ]
  },
  {
   "cell_type": "markdown",
   "metadata": {},
   "source": [
    "**Define some dummy variables**"
   ]
  },
  {
   "cell_type": "code",
   "execution_count": 5,
   "metadata": {},
   "outputs": [],
   "source": [
    "male = (Gender == 1)\n",
    "female = (Gender == 2)\n",
    "unreportedGender = (Gender == -1)\n",
    "\n",
    "fulltime = (OccupStat == 1)\n",
    "notfulltime = (OccupStat != 1)"
   ]
  },
  {
   "cell_type": "markdown",
   "metadata": {},
   "source": [
    "**Rescale some data**"
   ]
  },
  {
   "cell_type": "code",
   "execution_count": 6,
   "metadata": {},
   "outputs": [],
   "source": [
    "TimePT_scaled = TimePT / 200\n",
    "TimeCar_scaled = TimeCar / 200\n",
    "MarginalCostPT_scaled = MarginalCostPT / 10 \n",
    "CostCarCHF_scaled = CostCarCHF / 10\n",
    "distance_km_scaled = distance_km / 5"
   ]
  },
  {
   "cell_type": "markdown",
   "metadata": {},
   "source": [
    "**Compute normalizing weights for each alternative**"
   ]
  },
  {
   "cell_type": "code",
   "execution_count": 7,
   "metadata": {},
   "outputs": [],
   "source": [
    "sumWeight = database.data['Weight'].sum()\n",
    "normalized_Weight = Weight * len(database.data['Weight']) / sumWeight"
   ]
  },
  {
   "cell_type": "markdown",
   "metadata": {},
   "source": [
    "**Create parameters to be estimated**"
   ]
  },
  {
   "cell_type": "code",
   "execution_count": 8,
   "metadata": {},
   "outputs": [],
   "source": [
    "ASC_CAR              = Beta('ASC_CAR',0,None,None,0)\n",
    "ASC_PT               = Beta('ASC_PT',0,None,None,1)\n",
    "ASC_SM               = Beta('ASC_SM',0,None,None,0)\n",
    "BETA_TIME_FULLTIME   = Beta('BETA_TIME_FULLTIME',0,None,None,0)\n",
    "BETA_TIME_OTHER      = Beta('BETA_TIME_OTHER',0,None,None,0)\n",
    "BETA_DIST_MALE       = Beta('BETA_DIST_MALE',0,None,None,0)\n",
    "BETA_DIST_FEMALE     = Beta('BETA_DIST_FEMALE',0,None,None,0)\n",
    "BETA_DIST_UNREPORTED = Beta('BETA_DIST_UNREPORTED',0,None,None,0)\n",
    "BETA_COST            = Beta('BETA_COST',0,None,None,0)"
   ]
  },
  {
   "cell_type": "markdown",
   "metadata": {},
   "source": [
    "**Define the utility functions**\n",
    "\n",
    "\\begin{align}\n",
    "V_{PT} & = \\beta_{PT} + \\beta_{time_{fulltime}} X_{time_{PT}} X_{fulltime} + \\beta_{time_{other}} X_{time_{PT}} X_{not\\_fulltime} + \\beta_{cost} X_{cost_{PT}} \\\\\n",
    "V_{car} & = \\beta_{car} + \\beta_{time_{fulltime}} X_{time_{car}} X_{fulltime} + \\beta_{time_{other}} X_{time_{car}} X_{not\\_fulltime} + \\beta_{cost} X_{cost_{car}} \\\\\n",
    "V_{SM} & = \\beta_{SM} + \\beta_{male} X_{distance} X_{male} + \\beta_{female} X_{distance} X_{female} + \\beta_{unreported} X_{distance} X_{unreported}\n",
    "\\end{align}"
   ]
  },
  {
   "cell_type": "code",
   "execution_count": 9,
   "metadata": {},
   "outputs": [],
   "source": [
    "V_PT = ASC_PT + BETA_TIME_FULLTIME * TimePT_scaled * fulltime + \\\n",
    "       BETA_TIME_OTHER * TimePT_scaled * notfulltime + \\\n",
    "       BETA_COST * MarginalCostPT_scaled\n",
    "V_CAR = ASC_CAR + \\\n",
    "        BETA_TIME_FULLTIME * TimeCar_scaled * fulltime + \\\n",
    "        BETA_TIME_OTHER * TimeCar_scaled * notfulltime + \\\n",
    "        BETA_COST * CostCarCHF_scaled\n",
    "V_SM = ASC_SM + \\\n",
    "       BETA_DIST_MALE * distance_km_scaled * male + \\\n",
    "       BETA_DIST_FEMALE * distance_km_scaled * female + \\\n",
    "       BETA_DIST_UNREPORTED * distance_km_scaled * unreportedGender"
   ]
  },
  {
   "cell_type": "markdown",
   "metadata": {},
   "source": [
    "**Associate utility functions with alternatives and associate availability of alternatives**\n",
    "\n",
    "In this example all alternatives are available for each individual"
   ]
  },
  {
   "cell_type": "code",
   "execution_count": 10,
   "metadata": {},
   "outputs": [],
   "source": [
    "V = {0: V_PT,\n",
    "     1: V_CAR,\n",
    "     2: V_SM}\n",
    "\n",
    "av = {0: 1,\n",
    "      1: 1,\n",
    "      2: 1}"
   ]
  },
  {
   "cell_type": "markdown",
   "metadata": {},
   "source": [
    "**Define the nests**\n",
    "\n",
    "1. Define the nests paramenters\n",
    "2. List alternatives in nests"
   ]
  },
  {
   "cell_type": "code",
   "execution_count": 11,
   "metadata": {},
   "outputs": [],
   "source": [
    "MU_NO_CAR = Beta('MU_NO_CAR', 1.,1.,None,0)\n",
    "\n",
    "CAR_NEST = 1., [1]\n",
    "NO_CAR_NEST = MU_NO_CAR, [0, 2]\n",
    "\n",
    "nests = CAR_NEST, NO_CAR_NEST"
   ]
  },
  {
   "cell_type": "markdown",
   "metadata": {},
   "source": [
    "**Define the model**"
   ]
  },
  {
   "cell_type": "code",
   "execution_count": 12,
   "metadata": {},
   "outputs": [],
   "source": [
    "prob_pt  = models.nested(V,av,nests,0)\n",
    "prob_car = models.nested(V,av,nests,1)\n",
    "prob_sm  = models.nested(V,av,nests,2)"
   ]
  },
  {
   "cell_type": "markdown",
   "metadata": {},
   "source": [
    "## Aggregate Direct Elasticities"
   ]
  },
  {
   "cell_type": "markdown",
   "metadata": {},
   "source": [
    "**Calculate the direct elasticities**"
   ]
  },
  {
   "cell_type": "code",
   "execution_count": 13,
   "metadata": {},
   "outputs": [],
   "source": [
    "direct_elas_pt_time  = Derive(prob_pt,'TimePT') * TimePT / prob_pt \n",
    "direct_elas_pt_cost  = Derive(prob_pt,'MarginalCostPT') * MarginalCostPT / prob_pt \n",
    "direct_elas_car_time = Derive(prob_car,'TimeCar') * TimeCar / prob_car \n",
    "direct_elas_car_cost = Derive(prob_car,'CostCarCHF') * CostCarCHF / prob_car \n",
    "direct_elas_sm_dist  = Derive(prob_sm,'distance_km') * distance_km / prob_sm"
   ]
  },
  {
   "cell_type": "markdown",
   "metadata": {},
   "source": [
    "**Define what we want to simulate**"
   ]
  },
  {
   "cell_type": "code",
   "execution_count": 14,
   "metadata": {},
   "outputs": [],
   "source": [
    "simulate = {'weight': normalized_Weight,\n",
    "            'Prob. car': prob_car,\n",
    "            'Prob. public transportation': prob_pt,\n",
    "            'Prob. slow modes':prob_sm,\n",
    "            'direct_elas_pt_time':direct_elas_pt_time,\n",
    "            'direct_elas_pt_cost':direct_elas_pt_cost,\n",
    "            'direct_elas_car_time':direct_elas_car_time,\n",
    "            'direct_elas_car_cost':direct_elas_car_cost,\n",
    "            'direct_elas_sm_dist':direct_elas_sm_dist}"
   ]
  },
  {
   "cell_type": "markdown",
   "metadata": {},
   "source": [
    "**Define the Biogeme object**"
   ]
  },
  {
   "cell_type": "code",
   "execution_count": 15,
   "metadata": {},
   "outputs": [],
   "source": [
    "biogeme = bio.BIOGEME(database, simulate)\n",
    "biogeme.modelName = \"optima_nested_logit_elasticities_direct\""
   ]
  },
  {
   "cell_type": "markdown",
   "metadata": {},
   "source": [
    "**Retrieve the names of the variables we want to use. Then retrieve the results from the model that we estimated earlier**"
   ]
  },
  {
   "cell_type": "code",
   "execution_count": 16,
   "metadata": {},
   "outputs": [],
   "source": [
    "betas = biogeme.freeBetaNames\n",
    "\n",
    "results = res.bioResults(pickleFile='optima_nested_logit.pickle')\n",
    "betaValues = results.getBetaValues ()"
   ]
  },
  {
   "cell_type": "markdown",
   "metadata": {},
   "source": [
    "**Perform the simulation**"
   ]
  },
  {
   "cell_type": "code",
   "execution_count": 17,
   "metadata": {},
   "outputs": [],
   "source": [
    "simulatedValues = biogeme.simulate(betaValues)"
   ]
  },
  {
   "cell_type": "markdown",
   "metadata": {},
   "source": [
    "**Calculate the elasticities**"
   ]
  },
  {
   "cell_type": "code",
   "execution_count": 18,
   "metadata": {},
   "outputs": [],
   "source": [
    "simulatedValues['Weighted prob. car'] = simulatedValues['weight'] * simulatedValues['Prob. car']\n",
    "simulatedValues['Weighted prob. PT']  = simulatedValues['weight'] * simulatedValues['Prob. public transportation']\n",
    "simulatedValues['Weighted prob. SM']  = simulatedValues['weight'] * simulatedValues['Prob. slow modes']\n",
    "\n",
    "denominator_car = simulatedValues['Weighted prob. car'].sum()\n",
    "denominator_pt = simulatedValues['Weighted prob. PT'].sum()\n",
    "denominator_sm = simulatedValues['Weighted prob. SM'].sum()\n",
    "\n",
    "direct_elas_term_car_time = (simulatedValues['Weighted prob. car'] * simulatedValues['direct_elas_car_time'] / denominator_car).sum()\n",
    "direct_elas_term_car_cost = (simulatedValues['Weighted prob. car'] * simulatedValues['direct_elas_car_cost'] / denominator_car).sum()\n",
    "direct_elas_term_pt_time = (simulatedValues['Weighted prob. PT'] * simulatedValues['direct_elas_pt_time'] / denominator_pt).sum()\n",
    "direct_elas_term_pt_cost = (simulatedValues['Weighted prob. PT'] * simulatedValues['direct_elas_pt_cost'] / denominator_pt).sum()\n",
    "direct_elas_term_sm_dist = (simulatedValues['Weighted prob. SM'] * simulatedValues['direct_elas_sm_dist'] / denominator_sm).sum()"
   ]
  },
  {
   "cell_type": "markdown",
   "metadata": {},
   "source": [
    "**Print the resulting aggregate direct elasticities**"
   ]
  },
  {
   "cell_type": "code",
   "execution_count": 19,
   "metadata": {},
   "outputs": [
    {
     "name": "stdout",
     "output_type": "stream",
     "text": [
      "Aggregate direct elasticity of car wrt time: -0.0441\n",
      "Aggregate direct elasticity of car wrt cost: -0.0906\n",
      "Aggregate direct elasticity of PT wrt time: -0.274\n",
      "Aggregate direct elasticity of PT wrt cost: -0.32\n",
      "Aggregate direct elasticity of SM wrt distance: -1.09\n"
     ]
    }
   ],
   "source": [
    "print(f\"Aggregate direct elasticity of car wrt time: {direct_elas_term_car_time:.3g}\")\n",
    "print(f\"Aggregate direct elasticity of car wrt cost: {direct_elas_term_car_cost:.3g}\")\n",
    "print(f\"Aggregate direct elasticity of PT wrt time: {direct_elas_term_pt_time:.3g}\")\n",
    "print(f\"Aggregate direct elasticity of PT wrt cost: {direct_elas_term_pt_cost:.3g}\")\n",
    "print(f\"Aggregate direct elasticity of SM wrt distance: {direct_elas_term_sm_dist:.3g}\")"
   ]
  },
  {
   "cell_type": "markdown",
   "metadata": {},
   "source": [
    "## Aggregate Cross Elasticities"
   ]
  },
  {
   "cell_type": "markdown",
   "metadata": {},
   "source": [
    "**Calculate the cross elasticities**"
   ]
  },
  {
   "cell_type": "code",
   "execution_count": 20,
   "metadata": {},
   "outputs": [],
   "source": [
    "cross_elas_car_time = Derive(prob_car,'TimePT') * TimePT / prob_car \n",
    "cross_elas_car_cost = Derive(prob_car,'MarginalCostPT') * MarginalCostPT / prob_car \n",
    "cross_elas_pt_time = Derive(prob_pt,'TimeCar') * TimeCar / prob_pt \n",
    "cross_elas_pt_cost = Derive(prob_pt,'CostCarCHF') * CostCarCHF / prob_pt "
   ]
  },
  {
   "cell_type": "markdown",
   "metadata": {},
   "source": [
    "**Define what we want to simulate**"
   ]
  },
  {
   "cell_type": "code",
   "execution_count": 21,
   "metadata": {},
   "outputs": [],
   "source": [
    "simulate = {'weight': normalized_Weight,\n",
    "            'Prob. car': prob_car,\n",
    "            'Prob. public transportation': prob_pt,\n",
    "            'Prob. slow modes':prob_sm,\n",
    "            'cross_elas_pt_time':cross_elas_pt_time,\n",
    "            'cross_elas_pt_cost':cross_elas_pt_cost,\n",
    "            'cross_elas_car_time':cross_elas_car_time,\n",
    "            'cross_elas_car_cost':cross_elas_car_cost}"
   ]
  },
  {
   "cell_type": "markdown",
   "metadata": {},
   "source": [
    "**Define the Biogeme object**"
   ]
  },
  {
   "cell_type": "code",
   "execution_count": 22,
   "metadata": {},
   "outputs": [],
   "source": [
    "biogeme = bio.BIOGEME(database, simulate)\n",
    "biogeme.modelName = \"optima_nested_logit_elasticities_cross\""
   ]
  },
  {
   "cell_type": "markdown",
   "metadata": {},
   "source": [
    "**Retrieve the names of the variables we want to use. Then retrieve the results from the model that we estimated earlier**"
   ]
  },
  {
   "cell_type": "code",
   "execution_count": 23,
   "metadata": {},
   "outputs": [],
   "source": [
    "betas = biogeme.freeBetaNames\n",
    "\n",
    "results = res.bioResults(pickleFile='optima_nested_logit.pickle')\n",
    "betaValues = results.getBetaValues ()"
   ]
  },
  {
   "cell_type": "markdown",
   "metadata": {},
   "source": [
    "**Perform the simulation**"
   ]
  },
  {
   "cell_type": "code",
   "execution_count": 24,
   "metadata": {},
   "outputs": [],
   "source": [
    "simulatedValues = biogeme.simulate(betaValues)"
   ]
  },
  {
   "cell_type": "markdown",
   "metadata": {},
   "source": [
    "**Calculate the elasticities**"
   ]
  },
  {
   "cell_type": "code",
   "execution_count": 25,
   "metadata": {},
   "outputs": [],
   "source": [
    "simulatedValues['Weighted prob. car'] = simulatedValues['weight'] * simulatedValues['Prob. car']\n",
    "simulatedValues['Weighted prob. PT'] = simulatedValues['weight'] * simulatedValues['Prob. public transportation']\n",
    "\n",
    "denominator_car = simulatedValues['Weighted prob. car'].sum()\n",
    "denominator_pt = simulatedValues['Weighted prob. PT'].sum()\n",
    "\n",
    "cross_elas_term_car_time = (simulatedValues['Weighted prob. car'] * simulatedValues['cross_elas_car_time'] / denominator_car).sum()\n",
    "cross_elas_term_car_cost = (simulatedValues['Weighted prob. car'] * simulatedValues['cross_elas_car_cost'] / denominator_car).sum()\n",
    "cross_elas_term_pt_time = (simulatedValues['Weighted prob. PT'] * simulatedValues['cross_elas_pt_time'] / denominator_pt).sum()\n",
    "cross_elas_term_pt_cost = (simulatedValues['Weighted prob. PT'] * simulatedValues['cross_elas_pt_cost'] / denominator_pt).sum()"
   ]
  },
  {
   "cell_type": "markdown",
   "metadata": {},
   "source": [
    "**Print the resulting aggregate direct elasticities**"
   ]
  },
  {
   "cell_type": "code",
   "execution_count": 26,
   "metadata": {},
   "outputs": [
    {
     "name": "stdout",
     "output_type": "stream",
     "text": [
      "Aggregate cross elasticity of car wrt PT time: 0.107\n",
      "Aggregate cross elasticity of car wrt PT cost: 0.123\n",
      "Aggregate cross elasticity of PT wrt car time: 0.0953\n",
      "Aggregate cross elasticity of PT wrt car cost: 0.2\n"
     ]
    }
   ],
   "source": [
    "print(f\"Aggregate cross elasticity of car wrt PT time: {cross_elas_term_car_time:.3g}\")\n",
    "print(f\"Aggregate cross elasticity of car wrt PT cost: {cross_elas_term_car_cost:.3g}\")\n",
    "print(f\"Aggregate cross elasticity of PT wrt car time: {cross_elas_term_pt_time:.3g}\")\n",
    "print(f\"Aggregate cross elasticity of PT wrt car cost: {cross_elas_term_pt_cost:.3g}\")"
   ]
  },
  {
   "cell_type": "markdown",
   "metadata": {},
   "source": [
    "## Aggregate Arc Elasticities"
   ]
  },
  {
   "cell_type": "markdown",
   "metadata": {},
   "source": [
    "**Define after scenario: Increase distance by 1km**"
   ]
  },
  {
   "cell_type": "code",
   "execution_count": 27,
   "metadata": {},
   "outputs": [],
   "source": [
    "delta_dist = 1.\n",
    "distance_km_scaled_after = (distance_km + delta_dist) / 5"
   ]
  },
  {
   "cell_type": "markdown",
   "metadata": {},
   "source": [
    "**Define new utility function for the new scenario**"
   ]
  },
  {
   "cell_type": "code",
   "execution_count": 28,
   "metadata": {},
   "outputs": [],
   "source": [
    "V_SM_after = ASC_SM + \\\n",
    "       BETA_DIST_MALE * distance_km_scaled_after * male + \\\n",
    "       BETA_DIST_FEMALE * distance_km_scaled_after * female + \\\n",
    "       BETA_DIST_UNREPORTED * distance_km_scaled_after * unreportedGender"
   ]
  },
  {
   "cell_type": "markdown",
   "metadata": {},
   "source": [
    "**Define new utility functions dictionary**"
   ]
  },
  {
   "cell_type": "code",
   "execution_count": 29,
   "metadata": {},
   "outputs": [],
   "source": [
    "V_after = {0: V_PT,\n",
    "           1: V_CAR,\n",
    "           2: V_SM_after}"
   ]
  },
  {
   "cell_type": "markdown",
   "metadata": {},
   "source": [
    "**Define new model**"
   ]
  },
  {
   "cell_type": "code",
   "execution_count": 30,
   "metadata": {},
   "outputs": [],
   "source": [
    "# prob_sm = models.nested(V,av,nests,2)\n",
    "prob_sm_after = models.nested(V_after,av,nests,2)"
   ]
  },
  {
   "cell_type": "markdown",
   "metadata": {},
   "source": [
    "**Calculate the arc elasticity**"
   ]
  },
  {
   "cell_type": "code",
   "execution_count": 31,
   "metadata": {},
   "outputs": [],
   "source": [
    "direct_elas_sm_dist = (prob_sm_after - prob_sm) * distance_km / (prob_sm * delta_dist)"
   ]
  },
  {
   "cell_type": "markdown",
   "metadata": {},
   "source": [
    "**Define what we want to simulate**"
   ]
  },
  {
   "cell_type": "code",
   "execution_count": 32,
   "metadata": {},
   "outputs": [],
   "source": [
    "simulate = {'weight': normalized_Weight,\n",
    "            'Prob. slow modes':prob_sm,\n",
    "            'Prob. after slow modes':prob_sm_after,\n",
    "            'direct_elas_sm_dist':direct_elas_sm_dist}"
   ]
  },
  {
   "cell_type": "markdown",
   "metadata": {},
   "source": [
    "**Define the Biogeme object**"
   ]
  },
  {
   "cell_type": "code",
   "execution_count": 33,
   "metadata": {},
   "outputs": [],
   "source": [
    "biogeme = bio.BIOGEME(database, simulate)\n",
    "biogeme.modelName = \"optima_nested_logit_elasticities_arc\""
   ]
  },
  {
   "cell_type": "markdown",
   "metadata": {},
   "source": [
    "**Retrieve the names of the variables we want to use. Then retrieve the results from the model that we estimated earlier**"
   ]
  },
  {
   "cell_type": "code",
   "execution_count": 34,
   "metadata": {},
   "outputs": [],
   "source": [
    "betas = biogeme.freeBetaNames\n",
    "\n",
    "results = res.bioResults(pickleFile='optima_nested_logit.pickle')\n",
    "betaValues = results.getBetaValues ()"
   ]
  },
  {
   "cell_type": "markdown",
   "metadata": {},
   "source": [
    "**Perform the simulation**"
   ]
  },
  {
   "cell_type": "code",
   "execution_count": 35,
   "metadata": {},
   "outputs": [],
   "source": [
    "simulatedValues = biogeme.simulate(betaValues)"
   ]
  },
  {
   "cell_type": "markdown",
   "metadata": {},
   "source": [
    "**Calculate the elasticities**"
   ]
  },
  {
   "cell_type": "code",
   "execution_count": 36,
   "metadata": {},
   "outputs": [],
   "source": [
    "simulatedValues['Weighted prob. slow modes'] = simulatedValues['weight'] * simulatedValues['Prob. slow modes']\n",
    "\n",
    "denominator_sm = simulatedValues['Weighted prob. slow modes'].sum()\n",
    "\n",
    "direct_elas_sm_dist = (simulatedValues['Weighted prob. slow modes'] * simulatedValues['direct_elas_sm_dist'] / denominator_sm).sum()"
   ]
  },
  {
   "cell_type": "markdown",
   "metadata": {},
   "source": [
    "**Print the resulting aggregate direct elasticities**"
   ]
  },
  {
   "cell_type": "code",
   "execution_count": 37,
   "metadata": {},
   "outputs": [
    {
     "name": "stdout",
     "output_type": "stream",
     "text": [
      "Aggregate direct elasticity of slow modes wrt distance: -1.01\n"
     ]
    }
   ],
   "source": [
    "print(f\"Aggregate direct elasticity of slow modes wrt distance: {direct_elas_sm_dist:.3g}\")"
   ]
  }
 ],
 "metadata": {
  "kernelspec": {
   "display_name": "Python 3",
   "language": "python",
   "name": "python3"
  },
  "language_info": {
   "codemirror_mode": {
    "name": "ipython",
    "version": 3
   },
   "file_extension": ".py",
   "mimetype": "text/x-python",
   "name": "python",
   "nbconvert_exporter": "python",
   "pygments_lexer": "ipython3",
   "version": "3.8.3"
  }
 },
 "nbformat": 4,
 "nbformat_minor": 2
}
