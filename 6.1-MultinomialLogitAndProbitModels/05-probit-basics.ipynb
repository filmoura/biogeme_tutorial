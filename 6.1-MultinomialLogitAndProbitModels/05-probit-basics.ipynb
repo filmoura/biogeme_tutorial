{
 "cells": [
  {
   "cell_type": "markdown",
   "metadata": {},
   "source": [
    "# Biogeme Basics: Probit Model"
   ]
  },
  {
   "cell_type": "code",
   "execution_count": 1,
   "metadata": {},
   "outputs": [],
   "source": [
    "import pandas  as pd\n",
    "import numpy as np\n",
    "import biogeme.database as db\n",
    "import biogeme.biogeme as bio\n",
    "import biogeme.models as models\n",
    "import biogeme.optimization as opt\n",
    "from biogeme.expressions import Beta, DefineVariable, bioNormalCdf, log, Elem\n",
    "import seaborn as sns\n",
    "import matplotlib.pyplot as plt"
   ]
  },
  {
   "cell_type": "markdown",
   "metadata": {},
   "source": [
    "**Import Swissmetro data**"
   ]
  },
  {
   "cell_type": "code",
   "execution_count": 2,
   "metadata": {},
   "outputs": [],
   "source": [
    "pandas = pd.read_csv(\"../Data/swissmetro.dat\",sep='\\t')\n",
    "database = db.Database(\"data/swissmetro\", pandas)"
   ]
  },
  {
   "cell_type": "markdown",
   "metadata": {},
   "source": [
    "**Use collumn names as variables**"
   ]
  },
  {
   "cell_type": "code",
   "execution_count": 3,
   "metadata": {},
   "outputs": [],
   "source": [
    "globals().update(database.variables)"
   ]
  },
  {
   "cell_type": "markdown",
   "metadata": {},
   "source": [
    "**Exclude some unwanted entries**\n",
    "\n",
    "Rmove observations where Swissmetro was chosen (CHOICE == 2) and also remove observations where one of the two alternatives is not available"
   ]
  },
  {
   "cell_type": "code",
   "execution_count": 4,
   "metadata": {},
   "outputs": [],
   "source": [
    "CAR_AV_SP =  DefineVariable('CAR_AV_SP',CAR_AV * (SP != 0),database)\n",
    "TRAIN_AV_SP =  DefineVariable('TRAIN_AV_SP',TRAIN_AV * (SP != 0),database)\n",
    "exclude = (TRAIN_AV_SP == 0) + (CAR_AV_SP == 0) + ( CHOICE == 2 ) + (( PURPOSE != 1 ) * (  PURPOSE   !=  3  ) + ( CHOICE == 0 )) > 0\n",
    "database.remove(exclude)"
   ]
  },
  {
   "cell_type": "markdown",
   "metadata": {},
   "source": [
    "**Define some dummy variables**"
   ]
  },
  {
   "cell_type": "code",
   "execution_count": 5,
   "metadata": {},
   "outputs": [],
   "source": [
    "SM_COST = SM_CO * ( GA == 0 )\n",
    "TRAIN_COST = TRAIN_CO * ( GA == 0 )"
   ]
  },
  {
   "cell_type": "markdown",
   "metadata": {},
   "source": [
    "**Rescale some data**"
   ]
  },
  {
   "cell_type": "code",
   "execution_count": 6,
   "metadata": {},
   "outputs": [],
   "source": [
    "TRAIN_TT_SCALED   = DefineVariable('TRAIN_TT_SCALED',   TRAIN_TT / 100.0, database)\n",
    "TRAIN_COST_SCALED = DefineVariable('TRAIN_COST_SCALED', TRAIN_COST / 100, database)\n",
    "SM_TT_SCALED      = DefineVariable('SM_TT_SCALED',      SM_TT / 100.0   , database)\n",
    "SM_COST_SCALED    = DefineVariable('SM_COST_SCALED',    SM_COST / 100   , database)\n",
    "CAR_TT_SCALED     = DefineVariable('CAR_TT_SCALED',     CAR_TT / 100    , database)\n",
    "CAR_CO_SCALED     = DefineVariable('CAR_CO_SCALED',     CAR_CO / 100    , database)"
   ]
  },
  {
   "cell_type": "markdown",
   "metadata": {},
   "source": [
    "**Create parameters to be estimated**\n",
    "\n",
    "`Beta`\n",
    "1. name of parameter\n",
    "2. default value for the parameter\n",
    "3. lower bound\n",
    "4. upper bound\n",
    "5. flag indicating if parameter is to be estimated"
   ]
  },
  {
   "cell_type": "code",
   "execution_count": 7,
   "metadata": {},
   "outputs": [],
   "source": [
    "ASC_CAR = Beta('ASC_CAR',0,None,None,0)\n",
    "ASC_TRAIN = Beta('ASC_TRAIN',0,None,None,1)\n",
    "B_TIME = Beta('B_TIME',0,None,None,0)\n",
    "B_COST = Beta('B_COST',0,None,None,0)"
   ]
  },
  {
   "cell_type": "markdown",
   "metadata": {},
   "source": [
    "**Define the utility functions**"
   ]
  },
  {
   "cell_type": "markdown",
   "metadata": {},
   "source": [
    "\\begin{align}\n",
    "V_1 & = \\beta_{time}X_{Train_{TT}} + \\beta_{cost}X_{Train_{cost}}\\\\\n",
    "V_3 & = \\beta_{Car} + \\beta_{time}X_{Car_{TT}} + \\beta_{cost}X_{Car_{cost}}\\\\\n",
    "\\end{align}"
   ]
  },
  {
   "cell_type": "code",
   "execution_count": 8,
   "metadata": {},
   "outputs": [],
   "source": [
    "V1 = B_TIME * TRAIN_TT_SCALED + \\\n",
    "     B_COST * TRAIN_COST_SCALED\n",
    "V3 = ASC_CAR + \\\n",
    "     B_TIME * CAR_TT_SCALED + \\\n",
    "     B_COST * CAR_CO_SCALED"
   ]
  },
  {
   "cell_type": "markdown",
   "metadata": {},
   "source": [
    "**Associate utility functions with alternatives and associate availability of alternatives**\n",
    "\n",
    "Create a python dictionary with all utility functions\n",
    "\n",
    "Create a python dictionary with availability of choices"
   ]
  },
  {
   "cell_type": "code",
   "execution_count": 9,
   "metadata": {},
   "outputs": [],
   "source": [
    "P = {1: bioNormalCdf(V1-V3),\n",
    "     3: bioNormalCdf(V3-V1)}"
   ]
  },
  {
   "cell_type": "markdown",
   "metadata": {},
   "source": [
    "**Define the model**"
   ]
  },
  {
   "cell_type": "code",
   "execution_count": 10,
   "metadata": {},
   "outputs": [],
   "source": [
    "logprob = log(Elem(P, CHOICE))"
   ]
  },
  {
   "cell_type": "markdown",
   "metadata": {},
   "source": [
    "**Define the Biogeme object**\n",
    "\n",
    "* Give the database with all variables\n",
    "* Give the log likelihood model"
   ]
  },
  {
   "cell_type": "code",
   "execution_count": 11,
   "metadata": {},
   "outputs": [],
   "source": [
    "biogeme  = bio.BIOGEME(database, logprob)\n",
    "\n",
    "biogeme.modelName = \"swissmetro_probit_basic\""
   ]
  },
  {
   "cell_type": "markdown",
   "metadata": {},
   "source": [
    "**Estimate the model**\n",
    "\n",
    "1. A `.html` can be generated with a report of the results and can be opened with a browser\n",
    "2. A `.pickle` file can also be generaetd with a snapshot with the results. This file can then be used in other scripts"
   ]
  },
  {
   "cell_type": "code",
   "execution_count": 12,
   "metadata": {},
   "outputs": [
    {
     "name": "stdout",
     "output_type": "stream",
     "text": [
      "HTML file:    swissmetro_probit_basic.html\n",
      "Pickle file:  None\n"
     ]
    }
   ],
   "source": [
    "biogeme.generateHtml = True\n",
    "biogeme.generatePickle = False\n",
    "\n",
    "results = biogeme.estimate()\n",
    "\n",
    "print(f\"HTML file:    {results.data.htmlFileName}\")\n",
    "print(f\"Pickle file:  {results.data.pickleFileName }\")"
   ]
  },
  {
   "cell_type": "markdown",
   "metadata": {},
   "source": [
    "**Print results**"
   ]
  },
  {
   "cell_type": "code",
   "execution_count": 13,
   "metadata": {},
   "outputs": [
    {
     "name": "stdout",
     "output_type": "stream",
     "text": [
      "ASC_CAR   =\t0.691\n",
      "B_COST    =\t-0.812\n",
      "B_TIME    =\t-0.297\n"
     ]
    }
   ],
   "source": [
    "betas = results.getBetaValues()\n",
    "for k,v in betas.items():\n",
    "    print(f\"{k:10}=\\t{v:.3g}\")"
   ]
  },
  {
   "cell_type": "markdown",
   "metadata": {},
   "source": [
    "**Get the general statistics**"
   ]
  },
  {
   "cell_type": "code",
   "execution_count": 14,
   "metadata": {},
   "outputs": [
    {
     "name": "stdout",
     "output_type": "stream",
     "text": [
      "Number of estimated parameters               = 3\n",
      "Sample size                                  = 2232\n",
      "Excluded observations                        = 8496\n",
      "Init log likelihood                          = -1547.104507009801\n",
      "Final log likelihood                         = -986.1887862987081\n",
      "Likelihood ratio test for the init. model    = 1121.8314414221857\n",
      "Rho-square for the init. model               = 0.3625583909617164\n",
      "Rho-square-bar for the init. model           = 0.3606192847239623\n",
      "Akaike Information Criterion                 = 1978.3775725974162\n",
      "Bayesian Information Criterion               = 1995.50953256792\n",
      "Final gradient norm                          = 0.007383834715391203\n",
      "Nbr of threads                               = 8\n"
     ]
    }
   ],
   "source": [
    "gs = results.getGeneralStatistics()\n",
    "\n",
    "for k,v in gs.items():\n",
    "    print(\"{}= {}\".format(k.ljust(45),v[0]))"
   ]
  }
 ],
 "metadata": {
  "kernelspec": {
   "display_name": "Python 3",
   "language": "python",
   "name": "python3"
  },
  "language_info": {
   "codemirror_mode": {
    "name": "ipython",
    "version": 3
   },
   "file_extension": ".py",
   "mimetype": "text/x-python",
   "name": "python",
   "nbconvert_exporter": "python",
   "pygments_lexer": "ipython3",
   "version": "3.8.3"
  }
 },
 "nbformat": 4,
 "nbformat_minor": 2
}
